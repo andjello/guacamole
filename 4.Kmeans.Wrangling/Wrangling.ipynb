{
  "nbformat": 4,
  "nbformat_minor": 0,
  "metadata": {
    "colab": {
      "provenance": []
    },
    "kernelspec": {
      "name": "python3",
      "display_name": "Python 3"
    },
    "language_info": {
      "name": "python"
    }
  },
  "cells": [
    {
      "cell_type": "code",
      "execution_count": null,
      "metadata": {
        "id": "Sm0yLQOLgXVJ"
      },
      "outputs": [],
      "source": [
        "import pandas as pd\n",
        "import numpy as np\n",
        "import matplotlib.pyplot as plt\n",
        "import seaborn as sns"
      ]
    },
    {
      "cell_type": "code",
      "source": [
        "data = pd.read_csv('real-estate.csv')\n",
        "data.head()"
      ],
      "metadata": {
        "id": "zY9fMsUzg-o2"
      },
      "execution_count": null,
      "outputs": []
    },
    {
      "cell_type": "code",
      "source": [
        "cleaned_columns = [col.strip().replace(' ', '_').replace('-', '_').lower() for col in data.columns]\n",
        "data.columns = cleaned_columns\n",
        "data.columns"
      ],
      "metadata": {
        "id": "5aBUezhAhsrj"
      },
      "execution_count": null,
      "outputs": []
    },
    {
      "cell_type": "code",
      "source": [
        "missing_summary = data.isnull().sum()\n",
        "print(\"Missing Values Summary:\\n\", missing_summary)\n",
        "\n",
        "for col in ['bath', 'balcony', 'price']:\n",
        "    data[col] = data[col].fillna(data[col].median())\n",
        "\n",
        "data.dropna(inplace=True)\n",
        "data.isnull().sum()"
      ],
      "metadata": {
        "id": "9czlL0b-i0Jg"
      },
      "execution_count": null,
      "outputs": []
    },
    {
      "cell_type": "code",
      "source": [
        "subset_data = data[(data['availability'] == 'Ready To Move') & (data['price'] > 50)]\n",
        "subset_data.head()"
      ],
      "metadata": {
        "id": "bvr4vLjZjhtO"
      },
      "execution_count": null,
      "outputs": []
    },
    {
      "cell_type": "code",
      "source": [
        "encoded_data = pd.get_dummies(subset_data, columns=['area_type', 'availability', 'location'], drop_first=True)\n",
        "encoded_data.head()"
      ],
      "metadata": {
        "id": "2LaoX2EUjpeK"
      },
      "execution_count": null,
      "outputs": []
    },
    {
      "cell_type": "code",
      "source": [
        "location_columns = [col for col in encoded_data.columns if col.startswith(\"location_\")]\n",
        "\n",
        "location_avg_prices = {}\n",
        "for loc_col in location_columns:\n",
        "    location_avg_prices[loc_col] = encoded_data.loc[encoded_data[loc_col] == 1, 'price'].mean()\n",
        "\n",
        "location_avg_prices_df = pd.DataFrame(location_avg_prices.items(), columns=[\"Location\", \"Average Price\"])\n",
        "location_avg_prices_df[\"Location\"] = location_avg_prices_df[\"Location\"].str.replace(\"location_\", \"\").str.replace(\"_\", \" \")\n",
        "location_avg_prices_df.sort_values(by=\"Average Price\", ascending=False, inplace=True)\n",
        "\n",
        "plt.figure(figsize=(10, 6))\n",
        "sns.barplot(data=location_avg_prices_df.head(10), x=\"Average Price\", y=\"Location\", palette=\"viridis\")\n",
        "plt.title(\"Top 10 Locations by Average Sale Price\")\n",
        "plt.xlabel(\"Average Price\")\n",
        "plt.ylabel(\"Location\")\n",
        "plt.show()"
      ],
      "metadata": {
        "id": "X2CioTodjsD0"
      },
      "execution_count": null,
      "outputs": []
    },
    {
      "cell_type": "code",
      "source": [
        "Q1 = data['price'].quantile(0.25)\n",
        "Q3 = data['price'].quantile(0.75)\n",
        "IQR = Q3 - Q1\n",
        "\n",
        "lower_bound = Q1 - 1.5 * IQR\n",
        "upper_bound = Q3 + 1.5 * IQR\n",
        "\n",
        "cleaned_data = encoded_data[(encoded_data['price'] >= lower_bound) & (encoded_data['price'] <= upper_bound)]\n",
        "cleaned_data.head()"
      ],
      "metadata": {
        "id": "TxufOGFrj1YN"
      },
      "execution_count": null,
      "outputs": []
    },
    {
      "cell_type": "code",
      "source": [
        "cleaned_data.to_csv(\"Cleaned_RealEstate_Prices.csv\", index=False)"
      ],
      "metadata": {
        "id": "CqY3uF3UkdzC"
      },
      "execution_count": null,
      "outputs": []
    }
  ]
}