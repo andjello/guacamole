{
  "nbformat": 4,
  "nbformat_minor": 0,
  "metadata": {
    "colab": {
      "provenance": []
    },
    "kernelspec": {
      "name": "python3",
      "display_name": "Python 3"
    },
    "language_info": {
      "name": "python"
    }
  },
  "cells": [
    {
      "cell_type": "code",
      "source": [
        "import pandas as pd\n",
        "import numpy as np\n",
        "import matplotlib.pyplot as plt\n",
        "import seaborn as sns\n",
        "from sklearn.model_selection import train_test_split\n",
        "from sklearn.linear_model import LinearRegression, Ridge, Lasso\n",
        "from sklearn.metrics import r2_score, mean_squared_error, mean_absolute_error\n",
        "from sklearn.preprocessing import StandardScaler"
      ],
      "metadata": {
        "id": "Gv5ttLg8BrYH"
      },
      "execution_count": null,
      "outputs": []
    },
    {
      "cell_type": "code",
      "source": [
        "data = pd.read_csv('uber.csv')\n",
        "data.drop(columns=['Unnamed: 0', 'key', 'pickup_datetime'], inplace=True)\n",
        "data.dropna(inplace=True)\n",
        "data.head()"
      ],
      "metadata": {
        "id": "Y-MoRQD6BryM"
      },
      "execution_count": null,
      "outputs": []
    },
    {
      "cell_type": "code",
      "source": [
        "columns = ['fare_amount', 'pickup_longitude', 'pickup_latitude', 'passenger_count']\n",
        "\n",
        "plt.figure(figsize=(12, 6))\n",
        "for i, col in enumerate(columns, 1):\n",
        "    plt.subplot(1, 4, i)\n",
        "    sns.boxplot(data[col])\n",
        "    plt.title(f'Boxplot for {col}')\n",
        "\n",
        "plt.tight_layout()\n",
        "plt.show()\n",
        "\n",
        "df = data.copy()\n",
        "\n",
        "for col in columns:\n",
        "    Q1 = df[col].quantile(0.25)\n",
        "    Q3 = df[col].quantile(0.75)\n",
        "    IQR = Q3 - Q1\n",
        "    lower_bound = Q1 - 1.5 * IQR\n",
        "    upper_bound = Q3 + 1.5 * IQR\n",
        "\n",
        "    df = df[(df[col] >= lower_bound) & (df[col] <= upper_bound)]\n",
        "\n",
        "print(f\"\\nOriginal Data Shape: {data.shape}\")\n",
        "print(f\"Data Shape after Removing Outliers: {df.shape}\")"
      ],
      "metadata": {
        "id": "-hTO-Lx7SE3F"
      },
      "execution_count": null,
      "outputs": []
    },
    {
      "cell_type": "code",
      "source": [
        "correlation_matrix = data.corr()\n",
        "print(correlation_matrix['fare_amount'].sort_values(ascending=False))"
      ],
      "metadata": {
        "id": "8vr-G65WVpCh"
      },
      "execution_count": null,
      "outputs": []
    },
    {
      "cell_type": "code",
      "source": [
        "X = data.drop('fare_amount', axis=1)\n",
        "y = data['fare_amount']\n",
        "\n",
        "X_train, X_test, y_train, y_test = train_test_split(X, y, test_size=0.2, random_state=42)\n",
        "\n",
        "scaler = StandardScaler()\n",
        "X_train = scaler.fit_transform(X_train)\n",
        "X_test = scaler.transform(X_test)"
      ],
      "metadata": {
        "id": "XzW8Ga55WyDr"
      },
      "execution_count": null,
      "outputs": []
    },
    {
      "cell_type": "code",
      "source": [
        "linear_reg = LinearRegression()\n",
        "linear_reg.fit(X_train, y_train)\n",
        "y_pred_linear = linear_reg.predict(X_test)\n",
        "\n",
        "ridge_reg = Ridge(alpha=1.0)\n",
        "ridge_reg.fit(X_train, y_train)\n",
        "y_pred_ridge = ridge_reg.predict(X_test)\n",
        "\n",
        "lasso_reg = Lasso(alpha=1.0)\n",
        "lasso_reg.fit(X_train, y_train)\n",
        "y_pred_lasso = lasso_reg.predict(X_test)"
      ],
      "metadata": {
        "id": "mWszDGZCXADB"
      },
      "execution_count": null,
      "outputs": []
    },
    {
      "cell_type": "code",
      "source": [
        "def evaluate_model(y_true, y_pred):\n",
        "    r2 = r2_score(y_true, y_pred)\n",
        "    rmse = np.sqrt(mean_squared_error(y_true, y_pred))\n",
        "    mae = mean_absolute_error(y_true, y_pred)\n",
        "    mse = mean_squared_error(y_true, y_pred)\n",
        "    return r2, rmse, mae, mse\n",
        "\n",
        "r2_linear, rmse_linear, mae_linear, mse_linear = evaluate_model(y_test, y_pred_linear)\n",
        "r2_ridge, rmse_ridge, mae_ridge, mse_ridge = evaluate_model(y_test, y_pred_ridge)\n",
        "r2_lasso, rmse_lasso, mae_lasso, mse_lasso = evaluate_model(y_test, y_pred_lasso)\n",
        "\n",
        "print(\"Linear Regression: R2 = {:.2f}, RMSE = {:.2f}, MAE = {:.2f}, MSE = {:.2f}\".format(r2_linear, rmse_linear, mae_linear, mse_linear))\n",
        "print(\"Ridge Regression: R2 = {:.2f}, RMSE = {:.2f}, MAE = {:.2f}, MSE = {:.2f}\".format(r2_ridge, rmse_ridge, mae_ridge, mse_ridge))\n",
        "print(\"Lasso Regression: R2 = {:.2f}, RMSE = {:.2f}, MAE = {:.2f}, MSE = {:.2f}\".format(r2_lasso, rmse_lasso, mae_lasso, mse_lasso))"
      ],
      "metadata": {
        "id": "67OZCYrEXJ4e"
      },
      "execution_count": null,
      "outputs": []
    }
  ]
}