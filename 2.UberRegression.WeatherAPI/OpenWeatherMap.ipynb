{
  "nbformat": 4,
  "nbformat_minor": 0,
  "metadata": {
    "colab": {
      "provenance": []
    },
    "kernelspec": {
      "name": "python3",
      "display_name": "Python 3"
    },
    "language_info": {
      "name": "python"
    }
  },
  "cells": [
    {
      "cell_type": "code",
      "source": [
        "import requests\n",
        "import pandas as pd\n",
        "import matplotlib.pyplot as plt\n",
        "import seaborn as sns"
      ],
      "metadata": {
        "id": "QrsRJiSpcF-Y"
      },
      "execution_count": null,
      "outputs": []
    },
    {
      "cell_type": "code",
      "source": [
        "api_key = 'f00ece292bc59e0f3277c98512265da7'\n",
        "base_url = 'https://api.openweathermap.org/data/2.5/forcast'\n",
        "\n",
        "lat = 51.5074\n",
        "lon = -0.1278\n",
        "url = f'http://api.openweathermap.org/data/2.5/forecast?lat={lat}&lon={lon}&appid={api_key}&units=metric'\n",
        "\n",
        "response = requests.get(url)\n",
        "\n",
        "if response.status_code == 200:\n",
        "    forecast_data = response.json()\n",
        "else:\n",
        "    print('Failed to retrieve data:', response.status_code)"
      ],
      "metadata": {
        "id": "uvP5GVy1YV18"
      },
      "execution_count": null,
      "outputs": []
    },
    {
      "cell_type": "code",
      "source": [
        "forecast_list = forecast_data['list']\n",
        "forecast_info = []\n",
        "for entry in forecast_list:\n",
        "    forecast_info.append({\n",
        "        'Datetime': entry['dt_txt'],\n",
        "        'Temperature (°C)': entry['main']['temp'],\n",
        "        'Feels Like (°C)': entry['main']['feels_like'],\n",
        "        'Min Temperature (°C)': entry['main']['temp_min'],\n",
        "        'Max Temperature (°C)': entry['main']['temp_max'],\n",
        "        'Humidity (%)': entry['main']['humidity'],\n",
        "        'Pressure (hPa)': entry['main']['pressure'],\n",
        "        'Wind Speed (m/s)': entry['wind']['speed'],\n",
        "        'Wind Gust (m/s)': entry['wind']['gust'],\n",
        "        'Weather Description': entry['weather'][0]['description'],\n",
        "        'Rain (mm)': entry.get('rain', {}).get('3h', 0),\n",
        "        'Cloudiness (%)': entry['clouds']['all'],\n",
        "        'Latitude': lat,\n",
        "        'Longitude': lon\n",
        "    })\n",
        "\n",
        "forecast_df = pd.DataFrame(forecast_info)\n",
        "\n",
        "forecast_df.head()"
      ],
      "metadata": {
        "id": "oUYBidK-Ytgm"
      },
      "execution_count": null,
      "outputs": []
    },
    {
      "cell_type": "code",
      "source": [
        "forecast_df['Datetime'] = pd.to_datetime(forecast_df['Datetime'])\n",
        "forecast_df.isnull().sum()\n",
        "forecast_df.dropna(inplace=True)\n",
        "forecast_df.isnull().sum()"
      ],
      "metadata": {
        "id": "OaHYr8V4bBXp"
      },
      "execution_count": null,
      "outputs": []
    },
    {
      "cell_type": "code",
      "source": [
        "avg_temp = forecast_df['Temperature (°C)'].mean()\n",
        "min_temp = forecast_df['Min Temperature (°C)'].min()\n",
        "max_temp = forecast_df['Max Temperature (°C)'].max()\n",
        "total_rain = forecast_df['Rain (mm)'].sum()\n",
        "\n",
        "print(f\"Average Temperature: {avg_temp:.2f}°C\")\n",
        "print(f\"Min Temperature: {min_temp:.2f}°C\")\n",
        "print(f\"Max Temperature: {max_temp:.2f}°C\")\n",
        "print(f\"Total Rainfall in the next 5 days: {total_rain:.2f} mm\")"
      ],
      "metadata": {
        "id": "Z2FvQhZBb93D"
      },
      "execution_count": null,
      "outputs": []
    },
    {
      "cell_type": "code",
      "source": [
        "plt.figure(figsize=(12, 6))\n",
        "sns.lineplot(x='Datetime', y='Temperature (°C)', data=forecast_df, marker='o')\n",
        "plt.title(f'Temperature Forecast Over Time (Lat: {lat}, Lon: {lon})')\n",
        "plt.xlabel('Date & Time')\n",
        "plt.ylabel('Temperature (°C)')\n",
        "plt.xticks(rotation=45)\n",
        "plt.grid(True)\n",
        "plt.show()"
      ],
      "metadata": {
        "id": "HwwViLZwcADt"
      },
      "execution_count": null,
      "outputs": []
    },
    {
      "cell_type": "code",
      "source": [
        "plt.figure(figsize=(12, 6))\n",
        "sns.lineplot(x='Datetime', y='Wind Speed (m/s)', data=forecast_df, marker='o', color='green')\n",
        "plt.title(f'Wind Speed Forecast Over Time (Lat: {lat}, Lon: {lon})')\n",
        "plt.xlabel('Date & Time')\n",
        "plt.ylabel('Wind Speed (m/s)')\n",
        "plt.xticks(rotation=45)\n",
        "plt.grid(True)\n",
        "plt.show()"
      ],
      "metadata": {
        "id": "L5k1vWsdcX-N"
      },
      "execution_count": null,
      "outputs": []
    }
  ]
}