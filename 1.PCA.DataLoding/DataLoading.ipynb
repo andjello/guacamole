{
  "nbformat": 4,
  "nbformat_minor": 0,
  "metadata": {
    "colab": {
      "provenance": []
    },
    "kernelspec": {
      "name": "python3",
      "display_name": "Python 3"
    },
    "language_info": {
      "name": "python"
    }
  },
  "cells": [
    {
      "cell_type": "code",
      "source": [
        "import pandas as pd\n",
        "import numpy as np\n",
        "import matplotlib.pyplot as plt"
      ],
      "metadata": {
        "id": "QNaD7kOIrsMY"
      },
      "execution_count": null,
      "outputs": []
    },
    {
      "cell_type": "code",
      "source": [
        "# 1.\n",
        "csv_file = 'sales_data.csv'\n",
        "excel_file = 'sales_data.xlsx'\n",
        "json_file = 'sales_data.json'\n",
        "\n",
        "sales_csv = pd.read_csv(csv_file)\n",
        "sales_excel = pd.read_excel(excel_file)\n",
        "sales_json = pd.read_json(json_file)\n",
        "\n",
        "print(sales_csv.head()), print(sales_excel.head()), print(sales_json.head())\n",
        "\n",
        "print(\"\\n\")\n",
        "sales_csv.columns, sales_excel.columns, sales_json.columns"
      ],
      "metadata": {
        "collapsed": true,
        "id": "WRKtdN8nrtJ4"
      },
      "execution_count": null,
      "outputs": []
    },
    {
      "cell_type": "code",
      "source": [
        "# 2.\n",
        "sales_csv.info(), sales_excel.info(), sales_json.info()\n",
        "\n",
        "print(\"\\n\")\n",
        "sales_csv.isnull().sum(), sales_excel.isnull().sum(), sales_json.isnull().sum()\n",
        "\n",
        "print(\"\\n\")\n",
        "sales_csv.duplicated().sum(), sales_excel.duplicated().sum(), sales_json.duplicated().sum()"
      ],
      "metadata": {
        "id": "Qrwj4lzhsAjS"
      },
      "execution_count": null,
      "outputs": []
    },
    {
      "cell_type": "code",
      "source": [
        "# 3.\n",
        "sales_csv_cleaned = sales_csv.dropna().drop_duplicates()\n",
        "sales_excel_cleaned = sales_excel.dropna().drop_duplicates()\n",
        "sales_json_cleaned = sales_json.dropna().drop_duplicates()"
      ],
      "metadata": {
        "id": "ub-tt7qgsW33"
      },
      "execution_count": null,
      "outputs": []
    },
    {
      "cell_type": "code",
      "source": [
        "# 4.\n",
        "common_columns = ['ORDERNUMBER', 'QUANTITYORDERED', 'PRICEEACH', 'ORDERLINENUMBER',\n",
        "        'SALES', 'ORDERDATE', 'STATUS', 'QTR_ID', 'MONTH_ID', 'YEAR_ID',\n",
        "        'PRODUCTLINE', 'MSRP', 'PRODUCTCODE', 'CUSTOMERNAME', 'PHONE',\n",
        "        'ADDRESSLINE1', 'ADDRESSLINE2', 'CITY', 'STATE', 'POSTALCODE',\n",
        "        'COUNTRY', 'TERRITORY', 'CONTACTLASTNAME', 'CONTACTFIRSTNAME',\n",
        "        'DEALSIZE']\n",
        "\n",
        "for column in common_columns:\n",
        "    if column not in sales_csv_cleaned.columns or column not in sales_excel_cleaned.columns or column not in sales_json_cleaned.columns:\n",
        "        print(f\"Column '{column}' does not exist in at least one dataset.\")"
      ],
      "metadata": {
        "id": "uWxt0I37tELn"
      },
      "execution_count": null,
      "outputs": []
    },
    {
      "cell_type": "code",
      "source": [
        "merged_df = pd.concat([sales_csv_cleaned, sales_excel_cleaned, sales_json_cleaned], ignore_index=True)\n",
        "merged_df.head()"
      ],
      "metadata": {
        "id": "C3O-pqLiycFJ"
      },
      "execution_count": null,
      "outputs": []
    },
    {
      "cell_type": "code",
      "source": [
        "# 5.\n",
        "merged_df['ORDERDATE'] = pd.to_datetime(merged_df['ORDERDATE'], errors='coerce')\n",
        "merged_df['YEAR'] = merged_df['ORDERDATE'].dt.year\n",
        "merged_df['MONTH'] = merged_df['ORDERDATE'].dt.month\n",
        "merged_df.head()"
      ],
      "metadata": {
        "id": "1wVXLF46ypGI"
      },
      "execution_count": null,
      "outputs": []
    },
    {
      "cell_type": "code",
      "source": [
        "# 6.\n",
        "numerical_cols = ['QUANTITYORDERED', 'PRICEEACH', 'SALES', 'MSRP']\n",
        "merged_df[numerical_cols].describe()\n",
        "\n",
        "total_sales = merged_df['SALES'].sum()\n",
        "print(f\"Total Sales: {total_sales}\")\n",
        "\n",
        "average_order_value = merged_df['SALES'].mean()\n",
        "print(f\"\\nAverage Order Value: {average_order_value}\")\n",
        "\n",
        "product_category_distribution = merged_df['PRODUCTLINE'].value_counts(normalize=True) * 100\n",
        "print(\"\\nProduct Category Distribution:\")\n",
        "print(product_category_distribution)\n",
        "\n",
        "monthly_sales = merged_df.groupby('MONTH')['SALES'].sum()\n",
        "print(\"\\nMonthly Sales:\")\n",
        "print(monthly_sales)\n",
        "\n",
        "sales_by_year = merged_df.groupby('YEAR')['SALES'].sum()\n",
        "print(\"\\nSales by Year:\")\n",
        "print(sales_by_year)\n",
        "\n",
        "sales_by_product_line = merged_df.groupby('PRODUCTLINE')['SALES'].sum()\n",
        "print(\"\\nSales by Product Line:\")\n",
        "print(sales_by_product_line)\n",
        "\n",
        "sales_by_country = merged_df.groupby('COUNTRY')['SALES'].sum()\n",
        "print(\"\\nSales by Country:\")\n",
        "sales_by_country"
      ],
      "metadata": {
        "id": "KfV1MGCGz2nr"
      },
      "execution_count": null,
      "outputs": []
    },
    {
      "cell_type": "code",
      "source": [
        "# 7\n",
        "plt.figure(figsize=(10, 6))\n",
        "plt.bar(sales_by_product_line.index, sales_by_product_line.values)\n",
        "plt.xlabel(\"Product Line\")\n",
        "plt.ylabel(\"Total Sales\")\n",
        "plt.title(\"Sales by Product Line\")\n",
        "plt.xticks(rotation=45, ha=\"right\")\n",
        "plt.tight_layout()\n",
        "plt.show()"
      ],
      "metadata": {
        "id": "I6bFK1_-zBTX"
      },
      "execution_count": null,
      "outputs": []
    },
    {
      "cell_type": "code",
      "source": [
        "plt.figure(figsize=(8, 8))\n",
        "plt.pie(product_category_distribution, labels=product_category_distribution.index, autopct='%1.1f%%', startangle=90)\n",
        "plt.title(\"Product Category Distribution\")\n",
        "plt.show()"
      ],
      "metadata": {
        "id": "rwnBmts50x1X"
      },
      "execution_count": null,
      "outputs": []
    },
    {
      "cell_type": "code",
      "source": [
        "plt.figure(figsize=(10, 6))\n",
        "plt.plot(sales_by_year.index, sales_by_year.values)\n",
        "plt.xlabel(\"Year\")\n",
        "plt.ylabel(\"Total Sales\")\n",
        "plt.title(\"Sales Trend Over Time\")\n",
        "plt.show()"
      ],
      "metadata": {
        "id": "EO3wUaYW02-3"
      },
      "execution_count": null,
      "outputs": []
    },
    {
      "cell_type": "code",
      "source": [
        "plt.figure(figsize=(10, 6))\n",
        "plt.plot(monthly_sales.index, monthly_sales.values)\n",
        "plt.xlabel(\"Month\")\n",
        "plt.ylabel(\"Total Sales\")\n",
        "plt.title(\"Sales Trend Over Time\")\n",
        "plt.show()"
      ],
      "metadata": {
        "id": "ckXjZsrz07db"
      },
      "execution_count": null,
      "outputs": []
    }
  ]
}