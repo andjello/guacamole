{
  "nbformat": 4,
  "nbformat_minor": 0,
  "metadata": {
    "colab": {
      "provenance": []
    },
    "kernelspec": {
      "name": "python3",
      "display_name": "Python 3"
    },
    "language_info": {
      "name": "python"
    }
  },
  "cells": [
    {
      "cell_type": "code",
      "execution_count": null,
      "metadata": {
        "id": "UpIjoPGiTht2"
      },
      "outputs": [],
      "source": [
        "import pandas as pd\n",
        "from sklearn.model_selection import train_test_split\n",
        "from sklearn.preprocessing import StandardScaler"
      ]
    },
    {
      "cell_type": "code",
      "source": [
        "df = pd.read_csv('customer-churn.csv')\n",
        "df.head()"
      ],
      "metadata": {
        "id": "YEnXXd7pXO5W"
      },
      "execution_count": null,
      "outputs": []
    },
    {
      "cell_type": "code",
      "source": [
        "df.info()\n",
        "df.describe()\n",
        "df.select_dtypes(include=['object']).columns"
      ],
      "metadata": {
        "id": "qcuqjbWYXQRN"
      },
      "execution_count": null,
      "outputs": []
    },
    {
      "cell_type": "code",
      "source": [
        "df.isnull().sum()\n",
        "df.dropna(inplace=True)\n",
        "categorical_columns = df.select_dtypes(include=['object']).columns\n",
        "for col in categorical_columns:\n",
        "    df[col].fillna(df[col].mode()[0], inplace=True)\n",
        "\n",
        "df.duplicated().sum()\n",
        "df.drop_duplicates(inplace=True)"
      ],
      "metadata": {
        "id": "1a5GdsjVXYm8"
      },
      "execution_count": null,
      "outputs": []
    },
    {
      "cell_type": "code",
      "source": [
        "for col in categorical_columns:\n",
        "    df[col] = df[col].str.lower().str.strip()\n",
        "\n",
        "for col in categorical_columns:\n",
        "    df[col] = df[col].astype('category')"
      ],
      "metadata": {
        "id": "DhSlO7rZXhWK"
      },
      "execution_count": null,
      "outputs": []
    },
    {
      "cell_type": "code",
      "source": [
        "df['tenure'] = df['tenure'].astype(int)\n",
        "df['MonthlyCharges'] = df['MonthlyCharges'].astype(float)"
      ],
      "metadata": {
        "id": "7FltcfjQYAuz"
      },
      "execution_count": null,
      "outputs": []
    },
    {
      "cell_type": "code",
      "source": [
        "numerical_columns = df.select_dtypes(include=['float64', 'int64']).columns\n",
        "\n",
        "Q1 = df[numerical_columns].quantile(0.25)\n",
        "Q3 = df[numerical_columns].quantile(0.75)\n",
        "IQR = Q3 - Q1\n",
        "\n",
        "outliers = ((df[numerical_columns] < (Q1 - 1.5 * IQR)) | (df[numerical_columns] > (Q3 + 1.5 * IQR)))\n",
        "\n",
        "df = df[~outliers.any(axis=1)]"
      ],
      "metadata": {
        "id": "c54tOAl-YUPw"
      },
      "execution_count": null,
      "outputs": []
    },
    {
      "cell_type": "code",
      "source": [
        "df['is_senior'] = df['SeniorCitizen'].apply(lambda x: 1 if x == 1 else 0)\n",
        "\n",
        "df['monthly_spend'] = df['MonthlyCharges'] * df['tenure']\n",
        "\n",
        "scaler = StandardScaler()\n",
        "df[['tenure', 'MonthlyCharges']] = scaler.fit_transform(df[['tenure', 'MonthlyCharges']])\n",
        "\n",
        "X = df.drop(columns=['customerID', 'Churn'])\n",
        "y = df['Churn']"
      ],
      "metadata": {
        "id": "qS1qQZmmaw51"
      },
      "execution_count": null,
      "outputs": []
    },
    {
      "cell_type": "code",
      "source": [
        "X_train, X_test, y_train, y_test = train_test_split(X, y, test_size=0.2, random_state=42)\n",
        "\n",
        "df.to_csv('Cleaned_Telecom_Customer_Churn.csv', index=False)\n",
        "X_train.to_csv('X_train.csv', index=False)\n",
        "X_test.to_csv('X_test.csv', index=False)\n",
        "y_train.to_csv('y_train.csv', index=False)\n",
        "y_test.to_csv('y_test.csv', index=False)"
      ],
      "metadata": {
        "id": "96WbsdpHbE6W"
      },
      "execution_count": null,
      "outputs": []
    }
  ]
}