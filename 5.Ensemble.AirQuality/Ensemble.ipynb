{
  "nbformat": 4,
  "nbformat_minor": 0,
  "metadata": {
    "colab": {
      "provenance": []
    },
    "kernelspec": {
      "name": "python3",
      "display_name": "Python 3"
    },
    "language_info": {
      "name": "python"
    }
  },
  "cells": [
    {
      "cell_type": "code",
      "execution_count": null,
      "metadata": {
        "id": "9qe4ujpYlWZA"
      },
      "outputs": [],
      "source": [
        "import numpy as np\n",
        "import pandas as pd\n",
        "from sklearn.model_selection import train_test_split\n",
        "from sklearn.ensemble import RandomForestClassifier\n",
        "from sklearn.metrics import accuracy_score, classification_report\n",
        "from sklearn.preprocessing import OneHotEncoder\n",
        "import matplotlib.pyplot as plt\n",
        "import seaborn as sns"
      ]
    },
    {
      "cell_type": "code",
      "source": [
        "df = pd.read_csv('car-evaluation.csv', header=None)\n",
        "df.head(), df.info(), df.isnull().sum()"
      ],
      "metadata": {
        "id": "_wofpvXMoB1s"
      },
      "execution_count": null,
      "outputs": []
    },
    {
      "cell_type": "code",
      "source": [
        "col_names = ['buying', 'meant', 'doors', 'persons', 'lug_boot', 'safety', 'class']\n",
        "\n",
        "df.columns = col_names\n",
        "df.head()"
      ],
      "metadata": {
        "id": "CpSPGFYboql6"
      },
      "execution_count": null,
      "outputs": []
    },
    {
      "cell_type": "code",
      "source": [
        "X = df.drop(['class'], axis=1)\n",
        "y = df['class']\n",
        "\n",
        "X_train, X_test, y_train, y_test = train_test_split(X, y, test_size=0.2, random_state=42)"
      ],
      "metadata": {
        "id": "nmW3rshlo75m"
      },
      "execution_count": null,
      "outputs": []
    },
    {
      "cell_type": "code",
      "source": [
        "cols = ['buying', 'meant', 'doors', 'persons', 'lug_boot', 'safety']\n",
        "ohe = OneHotEncoder(handle_unknown='ignore')\n",
        "X_train_encoded = ohe.fit_transform(X_train[cols])\n",
        "X_test_encoded = ohe.transform(X_test[cols])\n",
        "\n",
        "X_train = X_train_encoded.toarray()\n",
        "X_test = X_test_encoded.toarray()"
      ],
      "metadata": {
        "id": "eAZekMV_rVDK"
      },
      "execution_count": null,
      "outputs": []
    },
    {
      "cell_type": "code",
      "source": [
        "tree = RandomForestClassifier(n_estimators=100, random_state=42)\n",
        "tree.fit(X_train, y_train)"
      ],
      "metadata": {
        "id": "iUhWH449p_Ij"
      },
      "execution_count": null,
      "outputs": []
    },
    {
      "cell_type": "code",
      "source": [
        "y_pred = tree.predict(X_test)\n",
        "accuracy = accuracy_score(y_test, y_pred)\n",
        "print(\"Accuracy:\", accuracy)\n",
        "print(classification_report(y_test, y_pred))"
      ],
      "metadata": {
        "id": "KJ7TSaPoqf7U"
      },
      "execution_count": null,
      "outputs": []
    }
  ]
}